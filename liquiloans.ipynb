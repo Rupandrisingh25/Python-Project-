{
  "nbformat": 4,
  "nbformat_minor": 0,
  "metadata": {
    "colab": {
      "provenance": [],
      "include_colab_link": true
    },
    "kernelspec": {
      "name": "python3",
      "display_name": "Python 3"
    },
    "language_info": {
      "name": "python"
    }
  },
  "cells": [
    {
      "cell_type": "markdown",
      "metadata": {
        "id": "view-in-github",
        "colab_type": "text"
      },
      "source": [
        "<a href=\"https://colab.research.google.com/github/Rupandrisingh25/Python-Project-/blob/main/liquiloans.ipynb\" target=\"_parent\"><img src=\"https://colab.research.google.com/assets/colab-badge.svg\" alt=\"Open In Colab\"/></a>"
      ]
    },
    {
      "cell_type": "code",
      "execution_count": null,
      "metadata": {
        "id": "g0bjUBLxvblc"
      },
      "outputs": [],
      "source": [
        "\n",
        "import pandas as pd\n",
        "import seaborn as sns\n",
        "import numpy as np\n",
        "from matplotlib import pyplot as plt\n",
        "%matplotlib inline\n",
        "from matplotlib import pyplot as plt"
      ]
    },
    {
      "cell_type": "markdown",
      "source": [
        "\n",
        "\n",
        "```\n",
        "# This is formatted as code\n",
        "```\n",
        "\n"
      ],
      "metadata": {
        "id": "xmDVi_icfool"
      }
    },
    {
      "cell_type": "code",
      "source": [
        "df=pd.read_excel('/content/purchase data_liqui_loan.xlsx')"
      ],
      "metadata": {
        "id": "tnfjRMxUxToJ"
      },
      "execution_count": null,
      "outputs": []
    },
    {
      "cell_type": "code",
      "source": [
        "df.tail(5)"
      ],
      "metadata": {
        "colab": {
          "base_uri": "https://localhost:8080/",
          "height": 317
        },
        "id": "n0e_-WODxfOf",
        "outputId": "c55bc078-81e5-4cc7-cd1b-f7355ad1e4f4"
      },
      "execution_count": null,
      "outputs": [
        {
          "output_type": "execute_result",
          "data": {
            "text/plain": [
              "              ID  Day  Incidence  Brand  Quantity  Last_Inc_Brand  \\\n",
              "58688  200000500  703          0      0         0               2   \n",
              "58689  200000500  710          0      0         0               0   \n",
              "58690  200000500  717          0      0         0               0   \n",
              "58691  200000500  722          1      2         3               0   \n",
              "58692  200000500  726          0      0         0               2   \n",
              "\n",
              "       Last_Inc_Quantity  Price_1  Price_2  Price_3  ...  Promotion_3  \\\n",
              "58688                  1     1.41     1.85     2.01  ...            1   \n",
              "58689                  0     1.36     1.84     2.09  ...            0   \n",
              "58690                  0     1.50     1.80     2.14  ...            0   \n",
              "58691                  0     1.51     1.82     2.09  ...            0   \n",
              "58692                  1     1.51     1.82     2.09  ...            0   \n",
              "\n",
              "       Promotion_4  Promotion_5  Sex  Marital status  Age  Education  Income  \\\n",
              "58688            0            0    0               0   42          1  120946   \n",
              "58689            0            0    0               0   42          1  120946   \n",
              "58690            0            0    0               0   42          1  120946   \n",
              "58691            0            0    0               0   42          1  120946   \n",
              "58692            0            0    0               0   42          1  120946   \n",
              "\n",
              "       Occupation  Settlement size  \n",
              "58688           1                0  \n",
              "58689           1                0  \n",
              "58690           1                0  \n",
              "58691           1                0  \n",
              "58692           1                0  \n",
              "\n",
              "[5 rows x 24 columns]"
            ],
            "text/html": [
              "\n",
              "  <div id=\"df-c3491c18-366a-49f0-a315-c8efffdaf885\">\n",
              "    <div class=\"colab-df-container\">\n",
              "      <div>\n",
              "<style scoped>\n",
              "    .dataframe tbody tr th:only-of-type {\n",
              "        vertical-align: middle;\n",
              "    }\n",
              "\n",
              "    .dataframe tbody tr th {\n",
              "        vertical-align: top;\n",
              "    }\n",
              "\n",
              "    .dataframe thead th {\n",
              "        text-align: right;\n",
              "    }\n",
              "</style>\n",
              "<table border=\"1\" class=\"dataframe\">\n",
              "  <thead>\n",
              "    <tr style=\"text-align: right;\">\n",
              "      <th></th>\n",
              "      <th>ID</th>\n",
              "      <th>Day</th>\n",
              "      <th>Incidence</th>\n",
              "      <th>Brand</th>\n",
              "      <th>Quantity</th>\n",
              "      <th>Last_Inc_Brand</th>\n",
              "      <th>Last_Inc_Quantity</th>\n",
              "      <th>Price_1</th>\n",
              "      <th>Price_2</th>\n",
              "      <th>Price_3</th>\n",
              "      <th>...</th>\n",
              "      <th>Promotion_3</th>\n",
              "      <th>Promotion_4</th>\n",
              "      <th>Promotion_5</th>\n",
              "      <th>Sex</th>\n",
              "      <th>Marital status</th>\n",
              "      <th>Age</th>\n",
              "      <th>Education</th>\n",
              "      <th>Income</th>\n",
              "      <th>Occupation</th>\n",
              "      <th>Settlement size</th>\n",
              "    </tr>\n",
              "  </thead>\n",
              "  <tbody>\n",
              "    <tr>\n",
              "      <th>58688</th>\n",
              "      <td>200000500</td>\n",
              "      <td>703</td>\n",
              "      <td>0</td>\n",
              "      <td>0</td>\n",
              "      <td>0</td>\n",
              "      <td>2</td>\n",
              "      <td>1</td>\n",
              "      <td>1.41</td>\n",
              "      <td>1.85</td>\n",
              "      <td>2.01</td>\n",
              "      <td>...</td>\n",
              "      <td>1</td>\n",
              "      <td>0</td>\n",
              "      <td>0</td>\n",
              "      <td>0</td>\n",
              "      <td>0</td>\n",
              "      <td>42</td>\n",
              "      <td>1</td>\n",
              "      <td>120946</td>\n",
              "      <td>1</td>\n",
              "      <td>0</td>\n",
              "    </tr>\n",
              "    <tr>\n",
              "      <th>58689</th>\n",
              "      <td>200000500</td>\n",
              "      <td>710</td>\n",
              "      <td>0</td>\n",
              "      <td>0</td>\n",
              "      <td>0</td>\n",
              "      <td>0</td>\n",
              "      <td>0</td>\n",
              "      <td>1.36</td>\n",
              "      <td>1.84</td>\n",
              "      <td>2.09</td>\n",
              "      <td>...</td>\n",
              "      <td>0</td>\n",
              "      <td>0</td>\n",
              "      <td>0</td>\n",
              "      <td>0</td>\n",
              "      <td>0</td>\n",
              "      <td>42</td>\n",
              "      <td>1</td>\n",
              "      <td>120946</td>\n",
              "      <td>1</td>\n",
              "      <td>0</td>\n",
              "    </tr>\n",
              "    <tr>\n",
              "      <th>58690</th>\n",
              "      <td>200000500</td>\n",
              "      <td>717</td>\n",
              "      <td>0</td>\n",
              "      <td>0</td>\n",
              "      <td>0</td>\n",
              "      <td>0</td>\n",
              "      <td>0</td>\n",
              "      <td>1.50</td>\n",
              "      <td>1.80</td>\n",
              "      <td>2.14</td>\n",
              "      <td>...</td>\n",
              "      <td>0</td>\n",
              "      <td>0</td>\n",
              "      <td>0</td>\n",
              "      <td>0</td>\n",
              "      <td>0</td>\n",
              "      <td>42</td>\n",
              "      <td>1</td>\n",
              "      <td>120946</td>\n",
              "      <td>1</td>\n",
              "      <td>0</td>\n",
              "    </tr>\n",
              "    <tr>\n",
              "      <th>58691</th>\n",
              "      <td>200000500</td>\n",
              "      <td>722</td>\n",
              "      <td>1</td>\n",
              "      <td>2</td>\n",
              "      <td>3</td>\n",
              "      <td>0</td>\n",
              "      <td>0</td>\n",
              "      <td>1.51</td>\n",
              "      <td>1.82</td>\n",
              "      <td>2.09</td>\n",
              "      <td>...</td>\n",
              "      <td>0</td>\n",
              "      <td>0</td>\n",
              "      <td>0</td>\n",
              "      <td>0</td>\n",
              "      <td>0</td>\n",
              "      <td>42</td>\n",
              "      <td>1</td>\n",
              "      <td>120946</td>\n",
              "      <td>1</td>\n",
              "      <td>0</td>\n",
              "    </tr>\n",
              "    <tr>\n",
              "      <th>58692</th>\n",
              "      <td>200000500</td>\n",
              "      <td>726</td>\n",
              "      <td>0</td>\n",
              "      <td>0</td>\n",
              "      <td>0</td>\n",
              "      <td>2</td>\n",
              "      <td>1</td>\n",
              "      <td>1.51</td>\n",
              "      <td>1.82</td>\n",
              "      <td>2.09</td>\n",
              "      <td>...</td>\n",
              "      <td>0</td>\n",
              "      <td>0</td>\n",
              "      <td>0</td>\n",
              "      <td>0</td>\n",
              "      <td>0</td>\n",
              "      <td>42</td>\n",
              "      <td>1</td>\n",
              "      <td>120946</td>\n",
              "      <td>1</td>\n",
              "      <td>0</td>\n",
              "    </tr>\n",
              "  </tbody>\n",
              "</table>\n",
              "<p>5 rows × 24 columns</p>\n",
              "</div>\n",
              "      <button class=\"colab-df-convert\" onclick=\"convertToInteractive('df-c3491c18-366a-49f0-a315-c8efffdaf885')\"\n",
              "              title=\"Convert this dataframe to an interactive table.\"\n",
              "              style=\"display:none;\">\n",
              "        \n",
              "  <svg xmlns=\"http://www.w3.org/2000/svg\" height=\"24px\"viewBox=\"0 0 24 24\"\n",
              "       width=\"24px\">\n",
              "    <path d=\"M0 0h24v24H0V0z\" fill=\"none\"/>\n",
              "    <path d=\"M18.56 5.44l.94 2.06.94-2.06 2.06-.94-2.06-.94-.94-2.06-.94 2.06-2.06.94zm-11 1L8.5 8.5l.94-2.06 2.06-.94-2.06-.94L8.5 2.5l-.94 2.06-2.06.94zm10 10l.94 2.06.94-2.06 2.06-.94-2.06-.94-.94-2.06-.94 2.06-2.06.94z\"/><path d=\"M17.41 7.96l-1.37-1.37c-.4-.4-.92-.59-1.43-.59-.52 0-1.04.2-1.43.59L10.3 9.45l-7.72 7.72c-.78.78-.78 2.05 0 2.83L4 21.41c.39.39.9.59 1.41.59.51 0 1.02-.2 1.41-.59l7.78-7.78 2.81-2.81c.8-.78.8-2.07 0-2.86zM5.41 20L4 18.59l7.72-7.72 1.47 1.35L5.41 20z\"/>\n",
              "  </svg>\n",
              "      </button>\n",
              "      \n",
              "  <style>\n",
              "    .colab-df-container {\n",
              "      display:flex;\n",
              "      flex-wrap:wrap;\n",
              "      gap: 12px;\n",
              "    }\n",
              "\n",
              "    .colab-df-convert {\n",
              "      background-color: #E8F0FE;\n",
              "      border: none;\n",
              "      border-radius: 50%;\n",
              "      cursor: pointer;\n",
              "      display: none;\n",
              "      fill: #1967D2;\n",
              "      height: 32px;\n",
              "      padding: 0 0 0 0;\n",
              "      width: 32px;\n",
              "    }\n",
              "\n",
              "    .colab-df-convert:hover {\n",
              "      background-color: #E2EBFA;\n",
              "      box-shadow: 0px 1px 2px rgba(60, 64, 67, 0.3), 0px 1px 3px 1px rgba(60, 64, 67, 0.15);\n",
              "      fill: #174EA6;\n",
              "    }\n",
              "\n",
              "    [theme=dark] .colab-df-convert {\n",
              "      background-color: #3B4455;\n",
              "      fill: #D2E3FC;\n",
              "    }\n",
              "\n",
              "    [theme=dark] .colab-df-convert:hover {\n",
              "      background-color: #434B5C;\n",
              "      box-shadow: 0px 1px 3px 1px rgba(0, 0, 0, 0.15);\n",
              "      filter: drop-shadow(0px 1px 2px rgba(0, 0, 0, 0.3));\n",
              "      fill: #FFFFFF;\n",
              "    }\n",
              "  </style>\n",
              "\n",
              "      <script>\n",
              "        const buttonEl =\n",
              "          document.querySelector('#df-c3491c18-366a-49f0-a315-c8efffdaf885 button.colab-df-convert');\n",
              "        buttonEl.style.display =\n",
              "          google.colab.kernel.accessAllowed ? 'block' : 'none';\n",
              "\n",
              "        async function convertToInteractive(key) {\n",
              "          const element = document.querySelector('#df-c3491c18-366a-49f0-a315-c8efffdaf885');\n",
              "          const dataTable =\n",
              "            await google.colab.kernel.invokeFunction('convertToInteractive',\n",
              "                                                     [key], {});\n",
              "          if (!dataTable) return;\n",
              "\n",
              "          const docLinkHtml = 'Like what you see? Visit the ' +\n",
              "            '<a target=\"_blank\" href=https://colab.research.google.com/notebooks/data_table.ipynb>data table notebook</a>'\n",
              "            + ' to learn more about interactive tables.';\n",
              "          element.innerHTML = '';\n",
              "          dataTable['output_type'] = 'display_data';\n",
              "          await google.colab.output.renderOutput(dataTable, element);\n",
              "          const docLink = document.createElement('div');\n",
              "          docLink.innerHTML = docLinkHtml;\n",
              "          element.appendChild(docLink);\n",
              "        }\n",
              "      </script>\n",
              "    </div>\n",
              "  </div>\n",
              "  "
            ]
          },
          "metadata": {},
          "execution_count": 8
        }
      ]
    },
    {
      "cell_type": "code",
      "source": [
        "df.columns"
      ],
      "metadata": {
        "colab": {
          "base_uri": "https://localhost:8080/"
        },
        "id": "YNvcUefnxgM5",
        "outputId": "da884dab-464b-45e4-9127-2e5b3113f401"
      },
      "execution_count": null,
      "outputs": [
        {
          "output_type": "execute_result",
          "data": {
            "text/plain": [
              "Index(['ID', 'Day', 'Incidence', 'Brand', 'Quantity', 'Last_Inc_Brand',\n",
              "       'Last_Inc_Quantity', 'Price_1', 'Price_2', 'Price_3', 'Price_4',\n",
              "       'Price_5', 'Promotion_1', 'Promotion_2', 'Promotion_3', 'Promotion_4',\n",
              "       'Promotion_5', 'Sex', 'Marital status', 'Age', 'Education', 'Income',\n",
              "       'Occupation', 'Settlement size'],\n",
              "      dtype='object')"
            ]
          },
          "metadata": {},
          "execution_count": 5
        }
      ]
    },
    {
      "cell_type": "code",
      "source": [
        "#Total 5 brand of chocolate are available.\n",
        "#0 means no brand.#\n",
        "df['Brand'].unique()"
      ],
      "metadata": {
        "colab": {
          "base_uri": "https://localhost:8080/"
        },
        "id": "jg-qxS-R33p7",
        "outputId": "4c4eab9e-4ba9-4d11-ae42-b592291b91a3"
      },
      "execution_count": null,
      "outputs": [
        {
          "output_type": "execute_result",
          "data": {
            "text/plain": [
              "array([0, 2, 5, 1, 4, 3])"
            ]
          },
          "metadata": {},
          "execution_count": 6
        }
      ]
    },
    {
      "cell_type": "code",
      "source": [
        "# 0 = The customer has not purchased an item from the category of interest\n",
        "# 1 = The customer has purchased an item from the category of interest\n",
        "plt.figure(figsize=(8,8))\n",
        "sns.countplot(df['Incidence'], palette='husl').set(\n",
        "    title=\"customer purchased by category of interest\")\n",
        "plt.show()"
      ],
      "metadata": {
        "colab": {
          "base_uri": "https://localhost:8080/",
          "height": 568
        },
        "id": "6lEJn83S3jOi",
        "outputId": "e1977059-3b93-4dd2-e972-a6e0e7c5a114"
      },
      "execution_count": null,
      "outputs": [
        {
          "output_type": "stream",
          "name": "stderr",
          "text": [
            "/usr/local/lib/python3.8/dist-packages/seaborn/_decorators.py:36: FutureWarning: Pass the following variable as a keyword arg: x. From version 0.12, the only valid positional argument will be `data`, and passing other arguments without an explicit keyword will result in an error or misinterpretation.\n",
            "  warnings.warn(\n"
          ]
        },
        {
          "output_type": "display_data",
          "data": {
            "text/plain": [
              "<Figure size 576x576 with 1 Axes>"
            ],
            "image/png": "[encoded data removed]"
          },
          "metadata": {
            "needs_background": "light"
          }
        }
      ]
    },
    {
      "cell_type": "markdown",
      "source": [
        "Here purchased of items from the category of interest around 14638 times and not purchased item from the category of interest around 44055."
      ],
      "metadata": {
        "id": "u2joK7hFkssL"
      }
    },
    {
      "cell_type": "code",
      "source": [
        "brand_item=df.groupby(\"Brand\")\n",
        "brand_item.first()"
      ],
      "metadata": {
        "colab": {
          "base_uri": "https://localhost:8080/",
          "height": 379
        },
        "id": "B8AZo04kCioA",
        "outputId": "48ede0eb-322f-4904-de45-c349d65d055a"
      },
      "execution_count": null,
      "outputs": [
        {
          "output_type": "execute_result",
          "data": {
            "text/plain": [
              "              ID  Day  Incidence  Quantity  Last_Inc_Brand  Last_Inc_Quantity  \\\n",
              "Brand                                                                           \n",
              "0      200000001    1          0         0               0                  0   \n",
              "1      200000001  110          1         2               0                  0   \n",
              "2      200000001   28          1         2               0                  0   \n",
              "3      200000007  192          1         1               0                  0   \n",
              "4      200000001  142          1         1               0                  0   \n",
              "5      200000001   58          1         1               0                  0   \n",
              "\n",
              "       Price_1  Price_2  Price_3  Price_4  ...  Promotion_3  Promotion_4  \\\n",
              "Brand                                      ...                             \n",
              "0         1.59     1.87     2.01     2.09  ...            0            0   \n",
              "1         1.47     1.90     1.99     1.97  ...            0            1   \n",
              "2         1.50     1.90     1.99     2.09  ...            0            0   \n",
              "3         1.35     1.88     1.99     2.16  ...            0            0   \n",
              "4         1.21     1.35     1.99     2.16  ...            0            0   \n",
              "5         1.39     1.90     1.91     2.12  ...            0            0   \n",
              "\n",
              "       Promotion_5  Sex  Marital status  Age  Education  Income  Occupation  \\\n",
              "Brand                                                                         \n",
              "0                0    0               0   47          1  110866           1   \n",
              "1                0    0               0   47          1  110866           1   \n",
              "2                0    0               0   47          1  110866           1   \n",
              "3                0    0               0   27          0  125190           2   \n",
              "4                0    0               0   47          1  110866           1   \n",
              "5                1    0               0   47          1  110866           1   \n",
              "\n",
              "       Settlement size  \n",
              "Brand                   \n",
              "0                    0  \n",
              "1                    0  \n",
              "2                    0  \n",
              "3                    1  \n",
              "4                    0  \n",
              "5                    0  \n",
              "\n",
              "[6 rows x 23 columns]"
            ],
            "text/html": [
              "\n",
              "  <div id=\"df-21948755-52a0-4222-850a-bea7b801b1d1\">\n",
              "    <div class=\"colab-df-container\">\n",
              "      <div>\n",
              "<style scoped>\n",
              "    .dataframe tbody tr th:only-of-type {\n",
              "        vertical-align: middle;\n",
              "    }\n",
              "\n",
              "    .dataframe tbody tr th {\n",
              "        vertical-align: top;\n",
              "    }\n",
              "\n",
              "    .dataframe thead th {\n",
              "        text-align: right;\n",
              "    }\n",
              "</style>\n",
              "<table border=\"1\" class=\"dataframe\">\n",
              "  <thead>\n",
              "    <tr style=\"text-align: right;\">\n",
              "      <th></th>\n",
              "      <th>ID</th>\n",
              "      <th>Day</th>\n",
              "      <th>Incidence</th>\n",
              "      <th>Quantity</th>\n",
              "      <th>Last_Inc_Brand</th>\n",
              "      <th>Last_Inc_Quantity</th>\n",
              "      <th>Price_1</th>\n",
              "      <th>Price_2</th>\n",
              "      <th>Price_3</th>\n",
              "      <th>Price_4</th>\n",
              "      <th>...</th>\n",
              "      <th>Promotion_3</th>\n",
              "      <th>Promotion_4</th>\n",
              "      <th>Promotion_5</th>\n",
              "      <th>Sex</th>\n",
              "      <th>Marital status</th>\n",
              "      <th>Age</th>\n",
              "      <th>Education</th>\n",
              "      <th>Income</th>\n",
              "      <th>Occupation</th>\n",
              "      <th>Settlement size</th>\n",
              "    </tr>\n",
              "    <tr>\n",
              "      <th>Brand</th>\n",
              "      <th></th>\n",
              "      <th></th>\n",
              "      <th></th>\n",
              "      <th></th>\n",
              "      <th></th>\n",
              "      <th></th>\n",
              "      <th></th>\n",
              "      <th></th>\n",
              "      <th></th>\n",
              "      <th></th>\n",
              "      <th></th>\n",
              "      <th></th>\n",
              "      <th></th>\n",
              "      <th></th>\n",
              "      <th></th>\n",
              "      <th></th>\n",
              "      <th></th>\n",
              "      <th></th>\n",
              "      <th></th>\n",
              "      <th></th>\n",
              "      <th></th>\n",
              "    </tr>\n",
              "  </thead>\n",
              "  <tbody>\n",
              "    <tr>\n",
              "      <th>0</th>\n",
              "      <td>200000001</td>\n",
              "      <td>1</td>\n",
              "      <td>0</td>\n",
              "      <td>0</td>\n",
              "      <td>0</td>\n",
              "      <td>0</td>\n",
              "      <td>1.59</td>\n",
              "      <td>1.87</td>\n",
              "      <td>2.01</td>\n",
              "      <td>2.09</td>\n",
              "      <td>...</td>\n",
              "      <td>0</td>\n",
              "      <td>0</td>\n",
              "      <td>0</td>\n",
              "      <td>0</td>\n",
              "      <td>0</td>\n",
              "      <td>47</td>\n",
              "      <td>1</td>\n",
              "      <td>110866</td>\n",
              "      <td>1</td>\n",
              "      <td>0</td>\n",
              "    </tr>\n",
              "    <tr>\n",
              "      <th>1</th>\n",
              "      <td>200000001</td>\n",
              "      <td>110</td>\n",
              "      <td>1</td>\n",
              "      <td>2</td>\n",
              "      <td>0</td>\n",
              "      <td>0</td>\n",
              "      <td>1.47</td>\n",
              "      <td>1.90</td>\n",
              "      <td>1.99</td>\n",
              "      <td>1.97</td>\n",
              "      <td>...</td>\n",
              "      <td>0</td>\n",
              "      <td>1</td>\n",
              "      <td>0</td>\n",
              "      <td>0</td>\n",
              "      <td>0</td>\n",
              "      <td>47</td>\n",
              "      <td>1</td>\n",
              "      <td>110866</td>\n",
              "      <td>1</td>\n",
              "      <td>0</td>\n",
              "    </tr>\n",
              "    <tr>\n",
              "      <th>2</th>\n",
              "      <td>200000001</td>\n",
              "      <td>28</td>\n",
              "      <td>1</td>\n",
              "      <td>2</td>\n",
              "      <td>0</td>\n",
              "      <td>0</td>\n",
              "      <td>1.50</td>\n",
              "      <td>1.90</td>\n",
              "      <td>1.99</td>\n",
              "      <td>2.09</td>\n",
              "      <td>...</td>\n",
              "      <td>0</td>\n",
              "      <td>0</td>\n",
              "      <td>0</td>\n",
              "      <td>0</td>\n",
              "      <td>0</td>\n",
              "      <td>47</td>\n",
              "      <td>1</td>\n",
              "      <td>110866</td>\n",
              "      <td>1</td>\n",
              "      <td>0</td>\n",
              "    </tr>\n",
              "    <tr>\n",
              "      <th>3</th>\n",
              "      <td>200000007</td>\n",
              "      <td>192</td>\n",
              "      <td>1</td>\n",
              "      <td>1</td>\n",
              "      <td>0</td>\n",
              "      <td>0</td>\n",
              "      <td>1.35</td>\n",
              "      <td>1.88</td>\n",
              "      <td>1.99</td>\n",
              "      <td>2.16</td>\n",
              "      <td>...</td>\n",
              "      <td>0</td>\n",
              "      <td>0</td>\n",
              "      <td>0</td>\n",
              "      <td>0</td>\n",
              "      <td>0</td>\n",
              "      <td>27</td>\n",
              "      <td>0</td>\n",
              "      <td>125190</td>\n",
              "      <td>2</td>\n",
              "      <td>1</td>\n",
              "    </tr>\n",
              "    <tr>\n",
              "      <th>4</th>\n",
              "      <td>200000001</td>\n",
              "      <td>142</td>\n",
              "      <td>1</td>\n",
              "      <td>1</td>\n",
              "      <td>0</td>\n",
              "      <td>0</td>\n",
              "      <td>1.21</td>\n",
              "      <td>1.35</td>\n",
              "      <td>1.99</td>\n",
              "      <td>2.16</td>\n",
              "      <td>...</td>\n",
              "      <td>0</td>\n",
              "      <td>0</td>\n",
              "      <td>0</td>\n",
              "      <td>0</td>\n",
              "      <td>0</td>\n",
              "      <td>47</td>\n",
              "      <td>1</td>\n",
              "      <td>110866</td>\n",
              "      <td>1</td>\n",
              "      <td>0</td>\n",
              "    </tr>\n",
              "    <tr>\n",
              "      <th>5</th>\n",
              "      <td>200000001</td>\n",
              "      <td>58</td>\n",
              "      <td>1</td>\n",
              "      <td>1</td>\n",
              "      <td>0</td>\n",
              "      <td>0</td>\n",
              "      <td>1.39</td>\n",
              "      <td>1.90</td>\n",
              "      <td>1.91</td>\n",
              "      <td>2.12</td>\n",
              "      <td>...</td>\n",
              "      <td>0</td>\n",
              "      <td>0</td>\n",
              "      <td>1</td>\n",
              "      <td>0</td>\n",
              "      <td>0</td>\n",
              "      <td>47</td>\n",
              "      <td>1</td>\n",
              "      <td>110866</td>\n",
              "      <td>1</td>\n",
              "      <td>0</td>\n",
              "    </tr>\n",
              "  </tbody>\n",
              "</table>\n",
              "<p>6 rows × 23 columns</p>\n",
              "</div>\n",
              "      <button class=\"colab-df-convert\" onclick=\"convertToInteractive('df-21948755-52a0-4222-850a-bea7b801b1d1')\"\n",
              "              title=\"Convert this dataframe to an interactive table.\"\n",
              "              style=\"display:none;\">\n",
              "        \n",
              "  <svg xmlns=\"http://www.w3.org/2000/svg\" height=\"24px\"viewBox=\"0 0 24 24\"\n",
              "       width=\"24px\">\n",
              "    <path d=\"M0 0h24v24H0V0z\" fill=\"none\"/>\n",
              "    <path d=\"M18.56 5.44l.94 2.06.94-2.06 2.06-.94-2.06-.94-.94-2.06-.94 2.06-2.06.94zm-11 1L8.5 8.5l.94-2.06 2.06-.94-2.06-.94L8.5 2.5l-.94 2.06-2.06.94zm10 10l.94 2.06.94-2.06 2.06-.94-2.06-.94-.94-2.06-.94 2.06-2.06.94z\"/><path d=\"M17.41 7.96l-1.37-1.37c-.4-.4-.92-.59-1.43-.59-.52 0-1.04.2-1.43.59L10.3 9.45l-7.72 7.72c-.78.78-.78 2.05 0 2.83L4 21.41c.39.39.9.59 1.41.59.51 0 1.02-.2 1.41-.59l7.78-7.78 2.81-2.81c.8-.78.8-2.07 0-2.86zM5.41 20L4 18.59l7.72-7.72 1.47 1.35L5.41 20z\"/>\n",
              "  </svg>\n",
              "      </button>\n",
              "      \n",
              "  <style>\n",
              "    .colab-df-container {\n",
              "      display:flex;\n",
              "      flex-wrap:wrap;\n",
              "      gap: 12px;\n",
              "    }\n",
              "\n",
              "    .colab-df-convert {\n",
              "      background-color: #E8F0FE;\n",
              "      border: none;\n",
              "      border-radius: 50%;\n",
              "      cursor: pointer;\n",
              "      display: none;\n",
              "      fill: #1967D2;\n",
              "      height: 32px;\n",
              "      padding: 0 0 0 0;\n",
              "      width: 32px;\n",
              "    }\n",
              "\n",
              "    .colab-df-convert:hover {\n",
              "      background-color: #E2EBFA;\n",
              "      box-shadow: 0px 1px 2px rgba(60, 64, 67, 0.3), 0px 1px 3px 1px rgba(60, 64, 67, 0.15);\n",
              "      fill: #174EA6;\n",
              "    }\n",
              "\n",
              "    [theme=dark] .colab-df-convert {\n",
              "      background-color: #3B4455;\n",
              "      fill: #D2E3FC;\n",
              "    }\n",
              "\n",
              "    [theme=dark] .colab-df-convert:hover {\n",
              "      background-color: #434B5C;\n",
              "      box-shadow: 0px 1px 3px 1px rgba(0, 0, 0, 0.15);\n",
              "      filter: drop-shadow(0px 1px 2px rgba(0, 0, 0, 0.3));\n",
              "      fill: #FFFFFF;\n",
              "    }\n",
              "  </style>\n",
              "\n",
              "      <script>\n",
              "        const buttonEl =\n",
              "          document.querySelector('#df-21948755-52a0-4222-850a-bea7b801b1d1 button.colab-df-convert');\n",
              "        buttonEl.style.display =\n",
              "          google.colab.kernel.accessAllowed ? 'block' : 'none';\n",
              "\n",
              "        async function convertToInteractive(key) {\n",
              "          const element = document.querySelector('#df-21948755-52a0-4222-850a-bea7b801b1d1');\n",
              "          const dataTable =\n",
              "            await google.colab.kernel.invokeFunction('convertToInteractive',\n",
              "                                                     [key], {});\n",
              "          if (!dataTable) return;\n",
              "\n",
              "          const docLinkHtml = 'Like what you see? Visit the ' +\n",
              "            '<a target=\"_blank\" href=https://colab.research.google.com/notebooks/data_table.ipynb>data table notebook</a>'\n",
              "            + ' to learn more about interactive tables.';\n",
              "          element.innerHTML = '';\n",
              "          dataTable['output_type'] = 'display_data';\n",
              "          await google.colab.output.renderOutput(dataTable, element);\n",
              "          const docLink = document.createElement('div');\n",
              "          docLink.innerHTML = docLinkHtml;\n",
              "          element.appendChild(docLink);\n",
              "        }\n",
              "      </script>\n",
              "    </div>\n",
              "  </div>\n",
              "  "
            ]
          },
          "metadata": {},
          "execution_count": 12
        }
      ]
    },
    {
      "cell_type": "code",
      "source": [
        "#Count of brand\n",
        "plt.figure(figsize=(8,8))\n",
        "sns.countplot(df['Brand'], palette='husl').set(\n",
        "    title=\"customer purchased count of brand\")\n",
        "plt.show()"
      ],
      "metadata": {
        "colab": {
          "base_uri": "https://localhost:8080/",
          "height": 568
        },
        "id": "ArNt-nXzmGWh",
        "outputId": "03c11125-e13f-4c0e-9964-a9fe9fe5b856"
      },
      "execution_count": null,
      "outputs": [
        {
          "output_type": "stream",
          "name": "stderr",
          "text": [
            "/usr/local/lib/python3.8/dist-packages/seaborn/_decorators.py:36: FutureWarning: Pass the following variable as a keyword arg: x. From version 0.12, the only valid positional argument will be `data`, and passing other arguments without an explicit keyword will result in an error or misinterpretation.\n",
            "  warnings.warn(\n"
          ]
        },
        {
          "output_type": "display_data",
          "data": {
            "text/plain": [
              "<Figure size 576x576 with 1 Axes>"
            ],
            "image/png": "[encoded data removed]"
          },
          "metadata": {
            "needs_background": "light"
          }
        }
      ]
    },
    {
      "cell_type": "code",
      "source": [
        "# Total number of quantity of brand chocolate purchased by the customer\n",
        "brand_quantity= df.groupby(\"Brand\")[\"Quantity\"].sum()\n",
        "brand_quantity"
      ],
      "metadata": {
        "colab": {
          "base_uri": "https://localhost:8080/"
        },
        "id": "c4I54py7nO0D",
        "outputId": "0397401e-f669-435c-ab4b-6d15033727d9"
      },
      "execution_count": null,
      "outputs": [
        {
          "output_type": "execute_result",
          "data": {
            "text/plain": [
              "Brand\n",
              "0        0\n",
              "1     4717\n",
              "2    12828\n",
              "3     2994\n",
              "4     8877\n",
              "5    11198\n",
              "Name: Quantity, dtype: int64"
            ]
          },
          "metadata": {},
          "execution_count": 17
        }
      ]
    },
    {
      "cell_type": "code",
      "source": [
        "brand_quantity.plot.bar()"
      ],
      "metadata": {
        "colab": {
          "base_uri": "https://localhost:8080/",
          "height": 293
        },
        "id": "ydOA_vDoDvjp",
        "outputId": "0baff661-98c9-4ada-c101-7b1ab92ab421"
      },
      "execution_count": null,
      "outputs": [
        {
          "output_type": "execute_result",
          "data": {
            "text/plain": [
              "<matplotlib.axes._subplots.AxesSubplot at 0x7f864a3f7be0>"
            ]
          },
          "metadata": {},
          "execution_count": 10
        },
        {
          "output_type": "display_data",
          "data": {
            "text/plain": [
              "<Figure size 432x288 with 1 Axes>"
            ],
            "image/png": "[encoded data removed]"
          },
          "metadata": {
            "needs_background": "light"
          }
        }
      ]
    },
    {
      "cell_type": "markdown",
      "source": [
        "We can clearly say that brand 2 puchased more and brand 3 purchased least and brand 0 has no quantity purchased."
      ],
      "metadata": {
        "id": "AIA0DlO_2CGH"
      }
    },
    {
      "cell_type": "code",
      "source": [
        "#last purchased brand quantity by the customer\n",
        "last_puchased_brand_quantity= df.groupby(\"Last_Inc_Brand\")[\"Last_Inc_Quantity\"].sum()\n",
        "last_puchased_brand_quantity\n"
      ],
      "metadata": {
        "colab": {
          "base_uri": "https://localhost:8080/"
        },
        "id": "_IQArs1Ny1wQ",
        "outputId": "97a07424-1601-4bcb-f6b2-5ff59d0bb460"
      },
      "execution_count": null,
      "outputs": [
        {
          "output_type": "execute_result",
          "data": {
            "text/plain": [
              "Last_Inc_Brand\n",
              "0       0\n",
              "1    1349\n",
              "2    4491\n",
              "3     834\n",
              "4    2914\n",
              "5    4972\n",
              "Name: Last_Inc_Quantity, dtype: int64"
            ]
          },
          "metadata": {},
          "execution_count": 18
        }
      ]
    },
    {
      "cell_type": "code",
      "source": [
        "last_puchased_brand_quantity.plot.bar()"
      ],
      "metadata": {
        "colab": {
          "base_uri": "https://localhost:8080/",
          "height": 294
        },
        "id": "vhCKNc_VDm17",
        "outputId": "6e9354f2-2272-4208-9dac-1f5d1c7dc9cc"
      },
      "execution_count": null,
      "outputs": [
        {
          "output_type": "execute_result",
          "data": {
            "text/plain": [
              "<matplotlib.axes._subplots.AxesSubplot at 0x7f864ad94a30>"
            ]
          },
          "metadata": {},
          "execution_count": 12
        },
        {
          "output_type": "display_data",
          "data": {
            "text/plain": [
              "<Figure size 432x288 with 1 Axes>"
            ],
            "image/png": "[encoded data removed]"
          },
          "metadata": {
            "needs_background": "light"
          }
        }
      ]
    },
    {
      "cell_type": "markdown",
      "source": [
        "Here brand 5 chocolate purchased more and brand 3 chocolate purchased least.\n",
        "\n",
        "Here we can say that the more quantity puchased brands are 2 and 5.  "
      ],
      "metadata": {
        "id": "YG9EEAOk4gZi"
      }
    },
    {
      "cell_type": "code",
      "source": [
        "df.columns"
      ],
      "metadata": {
        "colab": {
          "base_uri": "https://localhost:8080/"
        },
        "id": "qCguzU2N3EEP",
        "outputId": "21a3ef49-d034-4ca2-c01d-e7b7c5135270"
      },
      "execution_count": null,
      "outputs": [
        {
          "output_type": "execute_result",
          "data": {
            "text/plain": [
              "Index(['ID', 'Day', 'Incidence', 'Brand', 'Quantity', 'Last_Inc_Brand',\n",
              "       'Last_Inc_Quantity', 'Price_1', 'Price_2', 'Price_3', 'Price_4',\n",
              "       'Price_5', 'Promotion_1', 'Promotion_2', 'Promotion_3', 'Promotion_4',\n",
              "       'Promotion_5', 'Sex', 'Marital status', 'Age', 'Education', 'Income',\n",
              "       'Occupation', 'Settlement size'],\n",
              "      dtype='object')"
            ]
          },
          "metadata": {},
          "execution_count": 13
        }
      ]
    },
    {
      "cell_type": "code",
      "source": [
        "# Total amount of sale of brand 1 chocolate\n",
        "brand1_df = df[df['Brand'] ==1]\n",
        "brand1_df=(brand1_df['Quantity']*brand1_df['Price_1']).sum().round(2)\n",
        "brand1_df"
      ],
      "metadata": {
        "colab": {
          "base_uri": "https://localhost:8080/"
        },
        "id": "qTrjWYt0f70X",
        "outputId": "8318866c-58f8-4ed5-b4a7-d6c6ba1a2ff3"
      },
      "execution_count": null,
      "outputs": [
        {
          "output_type": "execute_result",
          "data": {
            "text/plain": [
              "6305.65"
            ]
          },
          "metadata": {},
          "execution_count": 14
        }
      ]
    },
    {
      "cell_type": "code",
      "source": [
        "# Total amount of sale of brand 2 chocolate\n",
        "\n",
        "brand2_df = df[df['Brand'] ==2]\n",
        "brand2_df=(brand2_df['Quantity']*brand2_df['Price_2']).sum().round(2)\n",
        "brand2_df"
      ],
      "metadata": {
        "colab": {
          "base_uri": "https://localhost:8080/"
        },
        "id": "VffOKdYWg2d2",
        "outputId": "ade58692-495b-4fc1-92c9-2aa89ad98663"
      },
      "execution_count": null,
      "outputs": [
        {
          "output_type": "execute_result",
          "data": {
            "text/plain": [
              "21768.31"
            ]
          },
          "metadata": {},
          "execution_count": 15
        }
      ]
    },
    {
      "cell_type": "code",
      "source": [
        "# Total amount of sale of brand 3 chocolate\n",
        "\n",
        "brand3_df = df[df['Brand'] ==3]\n",
        "brand3_df=(brand3_df['Quantity']*brand3_df['Price_3']).sum().round(2)\n",
        "brand3_df"
      ],
      "metadata": {
        "colab": {
          "base_uri": "https://localhost:8080/"
        },
        "id": "rhl88LUdhhg5",
        "outputId": "cffe6527-67bc-4cd6-f3cc-e07d5309b74b"
      },
      "execution_count": null,
      "outputs": [
        {
          "output_type": "execute_result",
          "data": {
            "text/plain": [
              "6021.52"
            ]
          },
          "metadata": {},
          "execution_count": 16
        }
      ]
    },
    {
      "cell_type": "code",
      "source": [
        "# Total amount of sale of brand 4 chocolate\n",
        "\n",
        "brand4_df = df[df['Brand'] ==4]\n",
        "brand4_df=(brand4_df['Quantity']*brand4_df['Price_4']).sum().round(2)\n",
        "brand4_df"
      ],
      "metadata": {
        "colab": {
          "base_uri": "https://localhost:8080/"
        },
        "id": "I-AEcmh1hpnz",
        "outputId": "d8c70545-5148-4547-d453-8e763aa4e231"
      },
      "execution_count": null,
      "outputs": [
        {
          "output_type": "execute_result",
          "data": {
            "text/plain": [
              "19040.1"
            ]
          },
          "metadata": {},
          "execution_count": 17
        }
      ]
    },
    {
      "cell_type": "code",
      "source": [
        "# Total amount of sale of brand 5 chocolate\n",
        "\n",
        "brand5_df = df[df['Brand'] ==5]\n",
        "brand5_df=(brand5_df['Quantity']*brand5_df['Price_5']).sum().round(2)\n",
        "brand5_df"
      ],
      "metadata": {
        "colab": {
          "base_uri": "https://localhost:8080/"
        },
        "id": "-4dpsnkRhv9w",
        "outputId": "fca58903-6989-4183-8c5d-681f76fc8414"
      },
      "execution_count": null,
      "outputs": [
        {
          "output_type": "execute_result",
          "data": {
            "text/plain": [
              "29621.0"
            ]
          },
          "metadata": {},
          "execution_count": 18
        }
      ]
    },
    {
      "cell_type": "markdown",
      "source": [
        "Here we clearly say that brand 2 produced more revenue."
      ],
      "metadata": {
        "id": "s3sE2rt1ibdV"
      }
    },
    {
      "cell_type": "markdown",
      "source": [
        "# **Total amount Generated with or without promotion of brand1**"
      ],
      "metadata": {
        "id": "1omSBBe-tIJn"
      }
    },
    {
      "cell_type": "code",
      "source": [
        "# Total amount generated by brand 1 without promotion\n",
        "brand1_no_promotion = df[(df['Brand']==1) & (df['Promotion_1']== 0)]\n",
        "brand1_no_promotion=(brand1_no_promotion['Quantity']*brand1_no_promotion['Price_1']).sum().round(2)\n",
        "brand1_no_promotion"
      ],
      "metadata": {
        "colab": {
          "base_uri": "https://localhost:8080/"
        },
        "id": "-fzediX1msjB",
        "outputId": "857113f8-923a-4cbd-bf2a-f2f27a3e369c"
      },
      "execution_count": null,
      "outputs": [
        {
          "output_type": "execute_result",
          "data": {
            "text/plain": [
              "3943.81"
            ]
          },
          "metadata": {},
          "execution_count": 19
        }
      ]
    },
    {
      "cell_type": "code",
      "source": [
        "# Total amount generated by brand 1 with promotion\n",
        "brand1_with_promotion=(brand1_df-brand1_no_promotion).round(2)\n",
        "brand1_with_promotion"
      ],
      "metadata": {
        "colab": {
          "base_uri": "https://localhost:8080/"
        },
        "id": "sBc4geasnCKT",
        "outputId": "b5bb776a-e437-4597-f420-be9b9cfe587f"
      },
      "execution_count": null,
      "outputs": [
        {
          "output_type": "execute_result",
          "data": {
            "text/plain": [
              "2361.84"
            ]
          },
          "metadata": {},
          "execution_count": 20
        }
      ]
    },
    {
      "cell_type": "code",
      "source": [
        "# Total percentage of sale amount increased by the promotion of brand\n",
        "percentage_increase_prom1=((brand1_with_promotion/brand1_df)*100).round()\n",
        "percentage_increase_prom1"
      ],
      "metadata": {
        "colab": {
          "base_uri": "https://localhost:8080/"
        },
        "id": "SGfJoR0grYyh",
        "outputId": "756bcbb3-e29f-465b-c1fd-4314c075233d"
      },
      "execution_count": null,
      "outputs": [
        {
          "output_type": "execute_result",
          "data": {
            "text/plain": [
              "37.0"
            ]
          },
          "metadata": {},
          "execution_count": 21
        }
      ]
    },
    {
      "cell_type": "markdown",
      "source": [
        "# **Total amount Generated with or without promotion of brand2**"
      ],
      "metadata": {
        "id": "RLVS5o6WtcJ_"
      }
    },
    {
      "cell_type": "code",
      "source": [
        "# Total amount generated by brand 2 without promotion\n",
        "brand2_no_promotion = df[(df['Brand']==2) & (df['Promotion_2']== 0)]\n",
        "brand2_no_promotion=(brand2_no_promotion['Quantity']*brand2_no_promotion['Price_2']).sum().round(2)\n",
        "brand2_no_promotion"
      ],
      "metadata": {
        "colab": {
          "base_uri": "https://localhost:8080/"
        },
        "id": "hucDb4LWsJG5",
        "outputId": "4a21bf88-cb40-4751-c53b-e7bf14795cef"
      },
      "execution_count": null,
      "outputs": [
        {
          "output_type": "execute_result",
          "data": {
            "text/plain": [
              "12645.68"
            ]
          },
          "metadata": {},
          "execution_count": 22
        }
      ]
    },
    {
      "cell_type": "code",
      "source": [
        "# Total amount generated by brand 2 with promotion\n",
        "brand2_with_promotion=(brand2_df-brand2_no_promotion).round(2)\n",
        "brand2_with_promotion"
      ],
      "metadata": {
        "colab": {
          "base_uri": "https://localhost:8080/"
        },
        "id": "3me7g9cltGGt",
        "outputId": "99fa5f5c-a808-4301-c956-933bdf16cdaf"
      },
      "execution_count": null,
      "outputs": [
        {
          "output_type": "execute_result",
          "data": {
            "text/plain": [
              "9122.63"
            ]
          },
          "metadata": {},
          "execution_count": 23
        }
      ]
    },
    {
      "cell_type": "code",
      "source": [
        "# Total percentage of sale amount increased by the promotion of brand\n",
        "percentage_increase_prom2=((brand2_with_promotion/brand2_df)*100).round()\n",
        "percentage_increase_prom2"
      ],
      "metadata": {
        "colab": {
          "base_uri": "https://localhost:8080/"
        },
        "id": "7k2AHMMrtxow",
        "outputId": "e5f51f5b-dba9-4949-9986-6efdd2984503"
      },
      "execution_count": null,
      "outputs": [
        {
          "output_type": "execute_result",
          "data": {
            "text/plain": [
              "42.0"
            ]
          },
          "metadata": {},
          "execution_count": 24
        }
      ]
    },
    {
      "cell_type": "markdown",
      "source": [
        "# **Total amount Generated with or without promotion of brand3**"
      ],
      "metadata": {
        "id": "s1iuyewqt7dU"
      }
    },
    {
      "cell_type": "code",
      "source": [
        "# Total amount generated by brand 3 without promotion\n",
        "brand3_no_promotion = df[(df['Brand']==3) & (df['Promotion_3']== 0)]\n",
        "brand3_no_promotion=(brand3_no_promotion['Quantity']*brand3_no_promotion['Price_3']).sum().round(2)\n",
        "brand3_no_promotion"
      ],
      "metadata": {
        "colab": {
          "base_uri": "https://localhost:8080/"
        },
        "id": "0z9tS2HGuCef",
        "outputId": "d18a5b1e-859e-4be1-8883-d82bac9cb624"
      },
      "execution_count": null,
      "outputs": [
        {
          "output_type": "execute_result",
          "data": {
            "text/plain": [
              "5531.47"
            ]
          },
          "metadata": {},
          "execution_count": 25
        }
      ]
    },
    {
      "cell_type": "code",
      "source": [
        "# Total amount generated by brand 3 with promotion\n",
        "brand3_with_promotion=(brand3_df-brand3_no_promotion).round(2)\n",
        "brand3_with_promotion"
      ],
      "metadata": {
        "colab": {
          "base_uri": "https://localhost:8080/"
        },
        "id": "9zfFFHXLuOpC",
        "outputId": "7dbe8da6-beca-4727-c70a-e711c0ca487c"
      },
      "execution_count": null,
      "outputs": [
        {
          "output_type": "execute_result",
          "data": {
            "text/plain": [
              "490.05"
            ]
          },
          "metadata": {},
          "execution_count": 26
        }
      ]
    },
    {
      "cell_type": "code",
      "source": [
        "# Total percentage of sale amount increased by the promotion of brand\n",
        "percentage_increase_prom3=((brand3_with_promotion/brand3_df)*100).round()\n",
        "percentage_increase_prom3"
      ],
      "metadata": {
        "colab": {
          "base_uri": "https://localhost:8080/"
        },
        "id": "1X_MdMkTucQs",
        "outputId": "7c8d5c88-80a9-4390-96f8-57f75fd4f340"
      },
      "execution_count": null,
      "outputs": [
        {
          "output_type": "execute_result",
          "data": {
            "text/plain": [
              "8.0"
            ]
          },
          "metadata": {},
          "execution_count": 27
        }
      ]
    },
    {
      "cell_type": "markdown",
      "source": [
        "# **Total amount Generated with or without promotion of brand4**"
      ],
      "metadata": {
        "id": "rVp1Q4YcujWo"
      }
    },
    {
      "cell_type": "code",
      "source": [
        "# Total amount generated by brand 4 without promotion\n",
        "brand4_no_promotion = df[(df['Brand']==4) & (df['Promotion_4']== 0)]\n",
        "brand4_no_promotion=(brand4_no_promotion['Quantity']*brand4_no_promotion['Price_4']).sum().round(2)\n",
        "brand4_no_promotion"
      ],
      "metadata": {
        "colab": {
          "base_uri": "https://localhost:8080/"
        },
        "id": "JwxjGM_KuoSM",
        "outputId": "cecf0789-84bf-495d-e3e3-65df90dead52"
      },
      "execution_count": null,
      "outputs": [
        {
          "output_type": "execute_result",
          "data": {
            "text/plain": [
              "16246.1"
            ]
          },
          "metadata": {},
          "execution_count": 28
        }
      ]
    },
    {
      "cell_type": "code",
      "source": [
        "# Total amount generated by brand 4 with promotion\n",
        "brand4_with_promotion=(brand4_df-brand4_no_promotion).round(2)\n",
        "brand4_with_promotion"
      ],
      "metadata": {
        "colab": {
          "base_uri": "https://localhost:8080/"
        },
        "id": "oa0WgfGsuqxf",
        "outputId": "1b0c45d0-e69f-4e17-f36c-916b7ad9ffc9"
      },
      "execution_count": null,
      "outputs": [
        {
          "output_type": "execute_result",
          "data": {
            "text/plain": [
              "2794.0"
            ]
          },
          "metadata": {},
          "execution_count": 29
        }
      ]
    },
    {
      "cell_type": "code",
      "source": [
        "# Total percentage of sale amount increased by the promotion of brand\n",
        "percentage_increase_prom4=((brand4_with_promotion/brand4_df)*100).round()\n",
        "percentage_increase_prom4"
      ],
      "metadata": {
        "colab": {
          "base_uri": "https://localhost:8080/"
        },
        "id": "uOLTcc8Eusr4",
        "outputId": "1b991208-7270-42b2-a3bc-6621ccb6c68b"
      },
      "execution_count": null,
      "outputs": [
        {
          "output_type": "execute_result",
          "data": {
            "text/plain": [
              "15.0"
            ]
          },
          "metadata": {},
          "execution_count": 30
        }
      ]
    },
    {
      "cell_type": "markdown",
      "source": [
        "# **Total amount Generated with or without promotion of brand5**"
      ],
      "metadata": {
        "id": "jsiPi3PgvMgS"
      }
    },
    {
      "cell_type": "code",
      "source": [
        "# Total amount generated by brand 1 without promotion\n",
        "brand5_no_promotion = df[(df['Brand']==5) & (df['Promotion_5']== 0)]\n",
        "brand5_no_promotion=(brand5_no_promotion['Quantity']*brand5_no_promotion['Price_5']).sum().round(2)\n",
        "brand5_no_promotion"
      ],
      "metadata": {
        "colab": {
          "base_uri": "https://localhost:8080/"
        },
        "id": "tutHNZKjvN1o",
        "outputId": "c7db7ddc-63ee-40b6-fb76-255893ca1df4"
      },
      "execution_count": null,
      "outputs": [
        {
          "output_type": "execute_result",
          "data": {
            "text/plain": [
              "27610.44"
            ]
          },
          "metadata": {},
          "execution_count": 31
        }
      ]
    },
    {
      "cell_type": "code",
      "source": [
        "# Total amount generated by brand 5 with promotion\n",
        "brand5_with_promotion=(brand5_df-brand5_no_promotion).round(2)\n",
        "brand5_with_promotion"
      ],
      "metadata": {
        "colab": {
          "base_uri": "https://localhost:8080/"
        },
        "id": "kwsNlbWhvPrd",
        "outputId": "a6b95f30-6b1d-4995-c783-8fd7f6f4feb5"
      },
      "execution_count": null,
      "outputs": [
        {
          "output_type": "execute_result",
          "data": {
            "text/plain": [
              "2010.56"
            ]
          },
          "metadata": {},
          "execution_count": 32
        }
      ]
    },
    {
      "cell_type": "code",
      "source": [
        "# Total percentage of sale amount increased by the promotion of brand\n",
        "percentage_increase_prom5=((brand5_with_promotion/brand5_df)*100).round()\n",
        "percentage_increase_prom5"
      ],
      "metadata": {
        "colab": {
          "base_uri": "https://localhost:8080/"
        },
        "id": "N3Zqm1vJvSkK",
        "outputId": "d74f4e1b-cfc5-40b6-a342-542d3aac55b3"
      },
      "execution_count": null,
      "outputs": [
        {
          "output_type": "execute_result",
          "data": {
            "text/plain": [
              "7.0"
            ]
          },
          "metadata": {},
          "execution_count": 33
        }
      ]
    },
    {
      "cell_type": "markdown",
      "source": [
        "Here we clearly see that brand5 revenue decrease 39% by applying the promotion and brand2 revenue increase 42% by applying the promotion.\n",
        "\n"
      ],
      "metadata": {
        "id": "JovAvMqmx4hE"
      }
    },
    {
      "cell_type": "markdown",
      "source": [
        "# Total revenue generate by male or female and single **or** married of brand1"
      ],
      "metadata": {
        "id": "C1qYRYV71WRk"
      }
    },
    {
      "cell_type": "code",
      "source": [
        "#Total revenue generated of brand1 by the unmarried male\n",
        "rev_male_single= df[(df['Sex']==0) & (df['Marital status']== 0) & (df['Brand']==1)]\n",
        "rev_male_single=(rev_male_single['Quantity']*rev_male_single['Price_1']).sum().round(2)\n",
        "rev_male_single"
      ],
      "metadata": {
        "colab": {
          "base_uri": "https://localhost:8080/"
        },
        "id": "ClP14RT9xgQz",
        "outputId": "aa358041-6eac-496a-faad-a431390afc2e"
      },
      "execution_count": null,
      "outputs": [
        {
          "output_type": "execute_result",
          "data": {
            "text/plain": [
              "2219.98"
            ]
          },
          "metadata": {},
          "execution_count": 34
        }
      ]
    },
    {
      "cell_type": "code",
      "source": [
        "#Total revenue generated of brand1 by the non single male.\n",
        "rev_male_nonsingle= df[(df['Sex']==0) & (df['Marital status']== 1) & (df['Brand']==1)]\n",
        "rev_male_nonsingle=(rev_male_nonsingle['Quantity']*rev_male_nonsingle['Price_1']).sum().round(2)\n",
        "rev_male_nonsingle"
      ],
      "metadata": {
        "colab": {
          "base_uri": "https://localhost:8080/"
        },
        "id": "cSGF6Glnxl9u",
        "outputId": "cc9e7e55-ce60-4bc1-8d08-6aa0d404d4df"
      },
      "execution_count": null,
      "outputs": [
        {
          "output_type": "execute_result",
          "data": {
            "text/plain": [
              "687.07"
            ]
          },
          "metadata": {},
          "execution_count": 35
        }
      ]
    },
    {
      "cell_type": "code",
      "source": [
        "#Total revenue generated of brand1 by the single female\n",
        "rev_female_single= df[(df['Sex']==1) & (df['Marital status']== 0) & (df['Brand']==1)]\n",
        "rev_female_single=(rev_female_single['Quantity']*rev_female_single['Price_1']).sum().round(2)\n",
        "rev_female_single"
      ],
      "metadata": {
        "colab": {
          "base_uri": "https://localhost:8080/"
        },
        "id": "JokthMBtxmBU",
        "outputId": "d53bae18-3b07-46f1-e714-81e9c72b4ca6"
      },
      "execution_count": null,
      "outputs": [
        {
          "output_type": "execute_result",
          "data": {
            "text/plain": [
              "860.06"
            ]
          },
          "metadata": {},
          "execution_count": 36
        }
      ]
    },
    {
      "cell_type": "code",
      "source": [
        "#Total revenue generated of brand1 by the non single female\n",
        "rev_male_single= df[(df['Sex']==1) & (df['Marital status']== 1) & (df['Brand']==1)]\n",
        "rev_male_single=(rev_male_single['Quantity']*rev_male_single['Price_1']).sum().round(2)\n",
        "rev_male_single"
      ],
      "metadata": {
        "colab": {
          "base_uri": "https://localhost:8080/"
        },
        "id": "QEE4M_qe3Dxe",
        "outputId": "d3f32b6a-0cb2-48d6-fec9-89fe46dfe420"
      },
      "execution_count": null,
      "outputs": [
        {
          "output_type": "execute_result",
          "data": {
            "text/plain": [
              "2538.54"
            ]
          },
          "metadata": {},
          "execution_count": 37
        }
      ]
    },
    {
      "cell_type": "markdown",
      "source": [
        "Here the maximum revenue generated by the unmarried male(2219.98) and non single female(2538.54)."
      ],
      "metadata": {
        "id": "89yg3uA59qw2"
      }
    },
    {
      "cell_type": "markdown",
      "source": [
        "# Total revenue generate by male or female and single **or** married of brand2"
      ],
      "metadata": {
        "id": "x334sI-95OzS"
      }
    },
    {
      "cell_type": "code",
      "source": [
        "#Total revenue generated of brand1 by the unmarried male\n",
        "rev_male_single= df[(df['Sex']==0) & (df['Marital status']== 0) & (df['Brand']==2)]\n",
        "rev_male_single=(rev_male_single['Quantity']*rev_male_single['Price_2']).sum().round(2)\n",
        "rev_male_single\n"
      ],
      "metadata": {
        "colab": {
          "base_uri": "https://localhost:8080/"
        },
        "id": "3fqtFX5q5a3K",
        "outputId": "a8e2340c-9dda-467f-f549-0de0615e003d"
      },
      "execution_count": null,
      "outputs": [
        {
          "output_type": "execute_result",
          "data": {
            "text/plain": [
              "11145.04"
            ]
          },
          "metadata": {},
          "execution_count": 38
        }
      ]
    },
    {
      "cell_type": "code",
      "source": [
        "#Total revenue generated of brand1 by the non single male.\n",
        "rev_male_nonsingle= df[(df['Sex']==0) & (df['Marital status']== 1) & (df['Brand']==2)]\n",
        "rev_male_nonsingle=(rev_male_nonsingle['Quantity']*rev_male_nonsingle['Price_2']).sum().round(2)\n",
        "rev_male_nonsingle"
      ],
      "metadata": {
        "colab": {
          "base_uri": "https://localhost:8080/"
        },
        "id": "TJL3r9785e65",
        "outputId": "0bbca5f0-22d8-4943-b999-6bb92cf72a01"
      },
      "execution_count": null,
      "outputs": [
        {
          "output_type": "execute_result",
          "data": {
            "text/plain": [
              "2328.69"
            ]
          },
          "metadata": {},
          "execution_count": 39
        }
      ]
    },
    {
      "cell_type": "code",
      "source": [
        "#Total revenue generated of brand1 by the single female\n",
        "rev_female_single= df[(df['Sex']==1) & (df['Marital status']== 0) & (df['Brand']==2)]\n",
        "rev_female_single=(rev_female_single['Quantity']*rev_female_single['Price_2']).sum().round(2)\n",
        "rev_female_single"
      ],
      "metadata": {
        "colab": {
          "base_uri": "https://localhost:8080/"
        },
        "id": "PS3gjZV45h8V",
        "outputId": "94ed20cd-f522-4e5d-d55e-2e67e90b955b"
      },
      "execution_count": null,
      "outputs": [
        {
          "output_type": "execute_result",
          "data": {
            "text/plain": [
              "4029.87"
            ]
          },
          "metadata": {},
          "execution_count": 40
        }
      ]
    },
    {
      "cell_type": "code",
      "source": [
        "#Total revenue generated of brand1 by the non single female\n",
        "rev_male_single= df[(df['Sex']==1) & (df['Marital status']== 1) & (df['Brand']==2)]\n",
        "rev_male_single=(rev_male_single['Quantity']*rev_male_single['Price_2']).sum().round(2)\n",
        "rev_male_single"
      ],
      "metadata": {
        "colab": {
          "base_uri": "https://localhost:8080/"
        },
        "id": "rJzFNgVZ5kSr",
        "outputId": "06eb176c-9c2b-4f7e-bc23-d71908162ab2"
      },
      "execution_count": null,
      "outputs": [
        {
          "output_type": "execute_result",
          "data": {
            "text/plain": [
              "4264.71"
            ]
          },
          "metadata": {},
          "execution_count": 41
        }
      ]
    },
    {
      "cell_type": "markdown",
      "source": [
        "Here total 11145.04 revenue generated by unmarried male.\n",
        "It means unmarried male more likely to purchased chocolate may be for the \"gift purpose\""
      ],
      "metadata": {
        "id": "LQR2FasD9C2s"
      }
    },
    {
      "cell_type": "markdown",
      "source": [
        "# Total revenue generate by male or female and single **or** married of brand3"
      ],
      "metadata": {
        "id": "vNrqTT2K5qCB"
      }
    },
    {
      "cell_type": "code",
      "source": [
        "#Total revenue generated of brand3 by the non single male.\n",
        "rev_male_nonsingle= df[(df['Sex']==0) & (df['Marital status']== 0) & (df['Brand']==3)]\n",
        "rev_male_nonsingle=(rev_male_nonsingle['Quantity']*rev_male_nonsingle['Price_3']).sum().round(2)\n",
        "rev_male_nonsingle"
      ],
      "metadata": {
        "colab": {
          "base_uri": "https://localhost:8080/"
        },
        "id": "g5grNu2e5t42",
        "outputId": "fbf86234-cdd5-42ad-cbf1-9d7be582b677"
      },
      "execution_count": null,
      "outputs": [
        {
          "output_type": "execute_result",
          "data": {
            "text/plain": [
              "1490.07"
            ]
          },
          "metadata": {},
          "execution_count": 42
        }
      ]
    },
    {
      "cell_type": "code",
      "source": [
        "#Total revenue generated of brand3 by the non single male.\n",
        "rev_male_nonsingle= df[(df['Sex']==0) & (df['Marital status']== 1) & (df['Brand']==3)]\n",
        "rev_male_nonsingle=(rev_male_nonsingle['Quantity']*rev_male_nonsingle['Price_3']).sum().round(2)\n",
        "rev_male_nonsingle"
      ],
      "metadata": {
        "colab": {
          "base_uri": "https://localhost:8080/"
        },
        "id": "jTJOUdH_60BZ",
        "outputId": "06cfcea2-91a7-4a03-ac9a-c69edc869347"
      },
      "execution_count": null,
      "outputs": [
        {
          "output_type": "execute_result",
          "data": {
            "text/plain": [
              "170.6"
            ]
          },
          "metadata": {},
          "execution_count": 43
        }
      ]
    },
    {
      "cell_type": "code",
      "source": [
        "#Total revenue generated of brand3 by the single female\n",
        "rev_female_single= df[(df['Sex']==1) & (df['Marital status']== 0) & (df['Brand']==3)]\n",
        "rev_female_single=(rev_female_single['Quantity']*rev_female_single['Price_3']).sum().round(2)\n",
        "rev_female_single"
      ],
      "metadata": {
        "colab": {
          "base_uri": "https://localhost:8080/"
        },
        "id": "hCiJxmSw5yaH",
        "outputId": "12336736-ab59-4a94-9952-86c353a13716"
      },
      "execution_count": null,
      "outputs": [
        {
          "output_type": "execute_result",
          "data": {
            "text/plain": [
              "128.18"
            ]
          },
          "metadata": {},
          "execution_count": 44
        }
      ]
    },
    {
      "cell_type": "code",
      "source": [
        "#Total revenue generated of brand3 by the non single female\n",
        "rev_male_single= df[(df['Sex']==1) & (df['Marital status']== 1) & (df['Brand']==3)]\n",
        "rev_male_single=(rev_male_single['Quantity']*rev_male_single['Price_3']).sum().round(2)\n",
        "rev_male_single"
      ],
      "metadata": {
        "colab": {
          "base_uri": "https://localhost:8080/"
        },
        "id": "1KBtlBLl505n",
        "outputId": "f6f2b4fc-c1db-43d1-8f63-5cc82a3a9358"
      },
      "execution_count": null,
      "outputs": [
        {
          "output_type": "execute_result",
          "data": {
            "text/plain": [
              "4232.67"
            ]
          },
          "metadata": {},
          "execution_count": 45
        }
      ]
    },
    {
      "cell_type": "markdown",
      "source": [
        "Here 4232.67 revenue generated by the non single female may be this chocolate is more liked by the female."
      ],
      "metadata": {
        "id": "2ktN-xl5-Dut"
      }
    },
    {
      "cell_type": "markdown",
      "source": [
        "# Total revenue generate by male or female and single **or** married of brand4"
      ],
      "metadata": {
        "id": "b47hEUxT51nm"
      }
    },
    {
      "cell_type": "code",
      "source": [
        "#Total revenue generated of brand4 by the unmarried male\n",
        "rev_male_single= df[(df['Sex']==0) & (df['Marital status']== 0) & (df['Brand']==4)]\n",
        "rev_male_single=(rev_male_single['Quantity']*rev_male_single['Price_4']).sum().round(2)\n",
        "rev_male_single\n"
      ],
      "metadata": {
        "colab": {
          "base_uri": "https://localhost:8080/"
        },
        "id": "tgG96Bbv50yk",
        "outputId": "1c067025-db62-44b7-c2da-b3489a14c332"
      },
      "execution_count": null,
      "outputs": [
        {
          "output_type": "execute_result",
          "data": {
            "text/plain": [
              "7042.99"
            ]
          },
          "metadata": {},
          "execution_count": 46
        }
      ]
    },
    {
      "cell_type": "code",
      "source": [
        "#Total revenue generated of brand4 by the non single male.\n",
        "rev_male_nonsingle= df[(df['Sex']==0) & (df['Marital status']== 1) & (df['Brand']==4)]\n",
        "rev_male_nonsingle=(rev_male_nonsingle['Quantity']*rev_male_nonsingle['Price_4']).sum().round(2)\n",
        "rev_male_nonsingle"
      ],
      "metadata": {
        "colab": {
          "base_uri": "https://localhost:8080/"
        },
        "id": "fW5JfYcL50ls",
        "outputId": "aba4852b-b254-4f10-9e46-61c0dfe85a89"
      },
      "execution_count": null,
      "outputs": [
        {
          "output_type": "execute_result",
          "data": {
            "text/plain": [
              "2986.62"
            ]
          },
          "metadata": {},
          "execution_count": 47
        }
      ]
    },
    {
      "cell_type": "code",
      "source": [
        "#Total revenue generated of brand4 by the single female\n",
        "rev_female_single= df[(df['Sex']==1) & (df['Marital status']== 0) & (df['Brand']==4)]\n",
        "rev_female_single=(rev_female_single['Quantity']*rev_female_single['Price_4']).sum().round(2)\n",
        "rev_female_single"
      ],
      "metadata": {
        "colab": {
          "base_uri": "https://localhost:8080/"
        },
        "id": "ztbuoD9w588H",
        "outputId": "15b5dc3a-9b62-4538-9bde-8dd3e84a987f"
      },
      "execution_count": null,
      "outputs": [
        {
          "output_type": "execute_result",
          "data": {
            "text/plain": [
              "1065.59"
            ]
          },
          "metadata": {},
          "execution_count": 48
        }
      ]
    },
    {
      "cell_type": "code",
      "source": [
        "#Total revenue generated of brand4 by the non single female\n",
        "rev_male_single= df[(df['Sex']==1) & (df['Marital status']== 1) & (df['Brand']==4)]\n",
        "rev_male_single=(rev_male_single['Quantity']*rev_male_single['Price_4']).sum().round(2)\n",
        "rev_male_single"
      ],
      "metadata": {
        "colab": {
          "base_uri": "https://localhost:8080/"
        },
        "id": "WDJlvlEc5-Qd",
        "outputId": "ebda0d87-c5d4-4206-b0d5-b626515fcdb4"
      },
      "execution_count": null,
      "outputs": [
        {
          "output_type": "execute_result",
          "data": {
            "text/plain": [
              "7944.9"
            ]
          },
          "metadata": {},
          "execution_count": 49
        }
      ]
    },
    {
      "cell_type": "markdown",
      "source": [
        "Here the maximum revenue generated by the unmarried male(7042.99) and non single female(7944.9)"
      ],
      "metadata": {
        "id": "cIwp4fWD-Z_0"
      }
    },
    {
      "cell_type": "markdown",
      "source": [
        "# Total revenue generate by male or female and single **or** married of brand5"
      ],
      "metadata": {
        "id": "IsPbpS9g5_Hp"
      }
    },
    {
      "cell_type": "code",
      "source": [
        "#Total revenue generated of brand5 by the unmarried male\n",
        "rev_male_single= df[(df['Sex']==0) & (df['Marital status']== 0) & (df['Brand']==5)]\n",
        "rev_male_single=(rev_male_single['Quantity']*rev_male_single['Price_5']).sum().round(2)\n",
        "rev_male_single"
      ],
      "metadata": {
        "colab": {
          "base_uri": "https://localhost:8080/"
        },
        "id": "UoUfmdcS6CNH",
        "outputId": "f2d69ae8-e275-42fb-ae10-c61d4e472854"
      },
      "execution_count": null,
      "outputs": [
        {
          "output_type": "execute_result",
          "data": {
            "text/plain": [
              "20877.38"
            ]
          },
          "metadata": {},
          "execution_count": 50
        }
      ]
    },
    {
      "cell_type": "code",
      "source": [
        "#Total revenue generated of brand5 by the non single male.\n",
        "rev_male_nonsingle= df[(df['Sex']==0) & (df['Marital status']== 1) & (df['Brand']==5)]\n",
        "rev_male_nonsingle=(rev_male_nonsingle['Quantity']*rev_male_nonsingle['Price_5']).sum().round(2)\n",
        "rev_male_nonsingle"
      ],
      "metadata": {
        "colab": {
          "base_uri": "https://localhost:8080/"
        },
        "id": "1STYasQS6DFg",
        "outputId": "dadd81c3-21cb-4fec-b0da-d64fa32f0bf5"
      },
      "execution_count": null,
      "outputs": [
        {
          "output_type": "execute_result",
          "data": {
            "text/plain": [
              "3928.1"
            ]
          },
          "metadata": {},
          "execution_count": 51
        }
      ]
    },
    {
      "cell_type": "code",
      "source": [
        "#Total revenue generated of brand5 by the single female\n",
        "rev_female_single= df[(df['Sex']==1) & (df['Marital status']== 0) & (df['Brand']==5)]\n",
        "rev_female_single=(rev_female_single['Quantity']*rev_female_single['Price_5']).sum().round(2)\n",
        "rev_female_single"
      ],
      "metadata": {
        "colab": {
          "base_uri": "https://localhost:8080/"
        },
        "id": "5g552oCI6C9T",
        "outputId": "5f8ec2b1-18a5-4967-9a04-c3aa5ea07a71"
      },
      "execution_count": null,
      "outputs": [
        {
          "output_type": "execute_result",
          "data": {
            "text/plain": [
              "1147.35"
            ]
          },
          "metadata": {},
          "execution_count": 52
        }
      ]
    },
    {
      "cell_type": "code",
      "source": [
        "#Total revenue generated of brand5 by the non single female\n",
        "rev_male_single= df[(df['Sex']==1) & (df['Marital status']== 1) & (df['Brand']==5)]\n",
        "rev_male_single=(rev_male_single['Quantity']*rev_male_single['Price_5']).sum().round(2)\n",
        "rev_male_single"
      ],
      "metadata": {
        "colab": {
          "base_uri": "https://localhost:8080/"
        },
        "id": "g0yRkhdl6CxF",
        "outputId": "26c595be-d64e-4fb1-8cc8-98e37fa32bea"
      },
      "execution_count": null,
      "outputs": [
        {
          "output_type": "execute_result",
          "data": {
            "text/plain": [
              "3668.17"
            ]
          },
          "metadata": {},
          "execution_count": 53
        }
      ]
    },
    {
      "cell_type": "markdown",
      "source": [
        "Here total 20877.38 revenue generated by unmarried male. It means unmarried male more likely to purchased chocolate may be this chocolate is very tasty or more popular."
      ],
      "metadata": {
        "id": "Ka0N6ndf-o5i"
      }
    },
    {
      "cell_type": "markdown",
      "source": [
        "# **Quantity of chocolate purchased by the different age groups.**"
      ],
      "metadata": {
        "id": "MSQ6HYQ-BqRv"
      }
    },
    {
      "cell_type": "code",
      "source": [
        "choc_pur_by_age=df.groupby('Age')[\"Quantity\"].sum().plot()\n",
        "choc_pur_by_age"
      ],
      "metadata": {
        "colab": {
          "base_uri": "https://localhost:8080/",
          "height": 296
        },
        "id": "_0xYEzkf_Ppt",
        "outputId": "6d8ffbae-8591-48fc-e62a-db3dd981d162"
      },
      "execution_count": null,
      "outputs": [
        {
          "output_type": "execute_result",
          "data": {
            "text/plain": [
              "<matplotlib.axes._subplots.AxesSubplot at 0x7f8649e7bee0>"
            ]
          },
          "metadata": {},
          "execution_count": 54
        },
        {
          "output_type": "display_data",
          "data": {
            "text/plain": [
              "<Figure size 432x288 with 1 Axes>"
            ],
            "image/png": "[encoded data removed]"
          },
          "metadata": {
            "needs_background": "light"
          }
        }
      ]
    },
    {
      "cell_type": "markdown",
      "source": [
        "Here in this graph we can clearly see that the age group by lie between 24 to 35 purchased more chocolate."
      ],
      "metadata": {
        "id": "HXiR74S7BTjL"
      }
    },
    {
      "cell_type": "markdown",
      "source": [
        "# **Quantity of chocolate purchased by the Income**"
      ],
      "metadata": {
        "id": "ks8EqZ3BINCE"
      }
    },
    {
      "cell_type": "code",
      "source": [
        "quan_by_income=df.groupby('Income')[\"Quantity\"].sum()\n",
        "quan_by_income=quan_by_income.to_frame()\n",
        "quan_by_income.head(2)"
      ],
      "metadata": {
        "colab": {
          "base_uri": "https://localhost:8080/",
          "height": 143
        },
        "id": "yS8svFGJEMft",
        "outputId": "4c68f8c1-762a-4222-aa5a-242ac2bcf473"
      },
      "execution_count": null,
      "outputs": [
        {
          "output_type": "execute_result",
          "data": {
            "text/plain": [
              "        Quantity\n",
              "Income          \n",
              "38247         59\n",
              "43684         23"
            ],
            "text/html": [
              "\n",
              "  <div id=\"df-f316194b-d031-475c-bd27-c7b86ac7329d\">\n",
              "    <div class=\"colab-df-container\">\n",
              "      <div>\n",
              "<style scoped>\n",
              "    .dataframe tbody tr th:only-of-type {\n",
              "        vertical-align: middle;\n",
              "    }\n",
              "\n",
              "    .dataframe tbody tr th {\n",
              "        vertical-align: top;\n",
              "    }\n",
              "\n",
              "    .dataframe thead th {\n",
              "        text-align: right;\n",
              "    }\n",
              "</style>\n",
              "<table border=\"1\" class=\"dataframe\">\n",
              "  <thead>\n",
              "    <tr style=\"text-align: right;\">\n",
              "      <th></th>\n",
              "      <th>Quantity</th>\n",
              "    </tr>\n",
              "    <tr>\n",
              "      <th>Income</th>\n",
              "      <th></th>\n",
              "    </tr>\n",
              "  </thead>\n",
              "  <tbody>\n",
              "    <tr>\n",
              "      <th>38247</th>\n",
              "      <td>59</td>\n",
              "    </tr>\n",
              "    <tr>\n",
              "      <th>43684</th>\n",
              "      <td>23</td>\n",
              "    </tr>\n",
              "  </tbody>\n",
              "</table>\n",
              "</div>\n",
              "      <button class=\"colab-df-convert\" onclick=\"convertToInteractive('df-f316194b-d031-475c-bd27-c7b86ac7329d')\"\n",
              "              title=\"Convert this dataframe to an interactive table.\"\n",
              "              style=\"display:none;\">\n",
              "        \n",
              "  <svg xmlns=\"http://www.w3.org/2000/svg\" height=\"24px\"viewBox=\"0 0 24 24\"\n",
              "       width=\"24px\">\n",
              "    <path d=\"M0 0h24v24H0V0z\" fill=\"none\"/>\n",
              "    <path d=\"M18.56 5.44l.94 2.06.94-2.06 2.06-.94-2.06-.94-.94-2.06-.94 2.06-2.06.94zm-11 1L8.5 8.5l.94-2.06 2.06-.94-2.06-.94L8.5 2.5l-.94 2.06-2.06.94zm10 10l.94 2.06.94-2.06 2.06-.94-2.06-.94-.94-2.06-.94 2.06-2.06.94z\"/><path d=\"M17.41 7.96l-1.37-1.37c-.4-.4-.92-.59-1.43-.59-.52 0-1.04.2-1.43.59L10.3 9.45l-7.72 7.72c-.78.78-.78 2.05 0 2.83L4 21.41c.39.39.9.59 1.41.59.51 0 1.02-.2 1.41-.59l7.78-7.78 2.81-2.81c.8-.78.8-2.07 0-2.86zM5.41 20L4 18.59l7.72-7.72 1.47 1.35L5.41 20z\"/>\n",
              "  </svg>\n",
              "      </button>\n",
              "      \n",
              "  <style>\n",
              "    .colab-df-container {\n",
              "      display:flex;\n",
              "      flex-wrap:wrap;\n",
              "      gap: 12px;\n",
              "    }\n",
              "\n",
              "    .colab-df-convert {\n",
              "      background-color: #E8F0FE;\n",
              "      border: none;\n",
              "      border-radius: 50%;\n",
              "      cursor: pointer;\n",
              "      display: none;\n",
              "      fill: #1967D2;\n",
              "      height: 32px;\n",
              "      padding: 0 0 0 0;\n",
              "      width: 32px;\n",
              "    }\n",
              "\n",
              "    .colab-df-convert:hover {\n",
              "      background-color: #E2EBFA;\n",
              "      box-shadow: 0px 1px 2px rgba(60, 64, 67, 0.3), 0px 1px 3px 1px rgba(60, 64, 67, 0.15);\n",
              "      fill: #174EA6;\n",
              "    }\n",
              "\n",
              "    [theme=dark] .colab-df-convert {\n",
              "      background-color: #3B4455;\n",
              "      fill: #D2E3FC;\n",
              "    }\n",
              "\n",
              "    [theme=dark] .colab-df-convert:hover {\n",
              "      background-color: #434B5C;\n",
              "      box-shadow: 0px 1px 3px 1px rgba(0, 0, 0, 0.15);\n",
              "      filter: drop-shadow(0px 1px 2px rgba(0, 0, 0, 0.3));\n",
              "      fill: #FFFFFF;\n",
              "    }\n",
              "  </style>\n",
              "\n",
              "      <script>\n",
              "        const buttonEl =\n",
              "          document.querySelector('#df-f316194b-d031-475c-bd27-c7b86ac7329d button.colab-df-convert');\n",
              "        buttonEl.style.display =\n",
              "          google.colab.kernel.accessAllowed ? 'block' : 'none';\n",
              "\n",
              "        async function convertToInteractive(key) {\n",
              "          const element = document.querySelector('#df-f316194b-d031-475c-bd27-c7b86ac7329d');\n",
              "          const dataTable =\n",
              "            await google.colab.kernel.invokeFunction('convertToInteractive',\n",
              "                                                     [key], {});\n",
              "          if (!dataTable) return;\n",
              "\n",
              "          const docLinkHtml = 'Like what you see? Visit the ' +\n",
              "            '<a target=\"_blank\" href=https://colab.research.google.com/notebooks/data_table.ipynb>data table notebook</a>'\n",
              "            + ' to learn more about interactive tables.';\n",
              "          element.innerHTML = '';\n",
              "          dataTable['output_type'] = 'display_data';\n",
              "          await google.colab.output.renderOutput(dataTable, element);\n",
              "          const docLink = document.createElement('div');\n",
              "          docLink.innerHTML = docLinkHtml;\n",
              "          element.appendChild(docLink);\n",
              "        }\n",
              "      </script>\n",
              "    </div>\n",
              "  </div>\n",
              "  "
            ]
          },
          "metadata": {},
          "execution_count": 56
        }
      ]
    },
    {
      "cell_type": "code",
      "source": [
        "#Maximum chocolate(quantity) purchased by the person whose income is 124597\n",
        "print(quan_by_income[quan_by_income.Quantity == quan_by_income.Quantity.max()])"
      ],
      "metadata": {
        "colab": {
          "base_uri": "https://localhost:8080/"
        },
        "id": "kN-zVH2cHu7n",
        "outputId": "a4680190-107a-41f9-b7eb-f5e267074156"
      },
      "execution_count": null,
      "outputs": [
        {
          "output_type": "stream",
          "name": "stdout",
          "text": [
            "        Quantity\n",
            "Income          \n",
            "124597       702\n"
          ]
        }
      ]
    },
    {
      "cell_type": "code",
      "source": [
        "#Minimum chocolate(quantity) purchased by the person whose income is 134377\n",
        "\n",
        "print(quan_by_income[quan_by_income.Quantity == quan_by_income.Quantity.min()])"
      ],
      "metadata": {
        "colab": {
          "base_uri": "https://localhost:8080/"
        },
        "id": "Dxc1cY9bH6o0",
        "outputId": "9e2d4203-f97a-41a9-ac77-5534fbcb1576"
      },
      "execution_count": null,
      "outputs": [
        {
          "output_type": "stream",
          "name": "stdout",
          "text": [
            "        Quantity\n",
            "Income          \n",
            "134377        10\n"
          ]
        }
      ]
    },
    {
      "cell_type": "markdown",
      "source": [
        "So Income is not a good factor on the sale of a chocolate because generallychocolate is not so expansive any one can buy its depend on the occation or want to eat chocolate."
      ],
      "metadata": {
        "id": "COOzFhYqJNcw"
      }
    },
    {
      "cell_type": "markdown",
      "source": [
        "# **Quantity of chocolate purchased by Settlement size the person**"
      ],
      "metadata": {
        "id": "sXlWNEn3LWse"
      }
    },
    {
      "cell_type": "code",
      "source": [
        "# Settlement size depend on the quantity of chocolate purchased\n",
        "quan_by_location=df.groupby('Settlement size')[\"Quantity\"].sum()\n",
        "quan_by_location=quan_by_location.to_frame()\n",
        "quan_by_location"
      ],
      "metadata": {
        "colab": {
          "base_uri": "https://localhost:8080/",
          "height": 175
        },
        "id": "T6P2c4vnKht_",
        "outputId": "74e7f609-ed25-41c1-85eb-7b77a2b1bb5c"
      },
      "execution_count": null,
      "outputs": [
        {
          "output_type": "execute_result",
          "data": {
            "text/plain": [
              "                 Quantity\n",
              "Settlement size          \n",
              "0                   19221\n",
              "1                   11593\n",
              "2                    9800"
            ],
            "text/html": [
              "\n",
              "  <div id=\"df-5fb99e27-6388-4864-8205-e72abe399bf4\">\n",
              "    <div class=\"colab-df-container\">\n",
              "      <div>\n",
              "<style scoped>\n",
              "    .dataframe tbody tr th:only-of-type {\n",
              "        vertical-align: middle;\n",
              "    }\n",
              "\n",
              "    .dataframe tbody tr th {\n",
              "        vertical-align: top;\n",
              "    }\n",
              "\n",
              "    .dataframe thead th {\n",
              "        text-align: right;\n",
              "    }\n",
              "</style>\n",
              "<table border=\"1\" class=\"dataframe\">\n",
              "  <thead>\n",
              "    <tr style=\"text-align: right;\">\n",
              "      <th></th>\n",
              "      <th>Quantity</th>\n",
              "    </tr>\n",
              "    <tr>\n",
              "      <th>Settlement size</th>\n",
              "      <th></th>\n",
              "    </tr>\n",
              "  </thead>\n",
              "  <tbody>\n",
              "    <tr>\n",
              "      <th>0</th>\n",
              "      <td>19221</td>\n",
              "    </tr>\n",
              "    <tr>\n",
              "      <th>1</th>\n",
              "      <td>11593</td>\n",
              "    </tr>\n",
              "    <tr>\n",
              "      <th>2</th>\n",
              "      <td>9800</td>\n",
              "    </tr>\n",
              "  </tbody>\n",
              "</table>\n",
              "</div>\n",
              "      <button class=\"colab-df-convert\" onclick=\"convertToInteractive('df-5fb99e27-6388-4864-8205-e72abe399bf4')\"\n",
              "              title=\"Convert this dataframe to an interactive table.\"\n",
              "              style=\"display:none;\">\n",
              "        \n",
              "  <svg xmlns=\"http://www.w3.org/2000/svg\" height=\"24px\"viewBox=\"0 0 24 24\"\n",
              "       width=\"24px\">\n",
              "    <path d=\"M0 0h24v24H0V0z\" fill=\"none\"/>\n",
              "    <path d=\"M18.56 5.44l.94 2.06.94-2.06 2.06-.94-2.06-.94-.94-2.06-.94 2.06-2.06.94zm-11 1L8.5 8.5l.94-2.06 2.06-.94-2.06-.94L8.5 2.5l-.94 2.06-2.06.94zm10 10l.94 2.06.94-2.06 2.06-.94-2.06-.94-.94-2.06-.94 2.06-2.06.94z\"/><path d=\"M17.41 7.96l-1.37-1.37c-.4-.4-.92-.59-1.43-.59-.52 0-1.04.2-1.43.59L10.3 9.45l-7.72 7.72c-.78.78-.78 2.05 0 2.83L4 21.41c.39.39.9.59 1.41.59.51 0 1.02-.2 1.41-.59l7.78-7.78 2.81-2.81c.8-.78.8-2.07 0-2.86zM5.41 20L4 18.59l7.72-7.72 1.47 1.35L5.41 20z\"/>\n",
              "  </svg>\n",
              "      </button>\n",
              "      \n",
              "  <style>\n",
              "    .colab-df-container {\n",
              "      display:flex;\n",
              "      flex-wrap:wrap;\n",
              "      gap: 12px;\n",
              "    }\n",
              "\n",
              "    .colab-df-convert {\n",
              "      background-color: #E8F0FE;\n",
              "      border: none;\n",
              "      border-radius: 50%;\n",
              "      cursor: pointer;\n",
              "      display: none;\n",
              "      fill: #1967D2;\n",
              "      height: 32px;\n",
              "      padding: 0 0 0 0;\n",
              "      width: 32px;\n",
              "    }\n",
              "\n",
              "    .colab-df-convert:hover {\n",
              "      background-color: #E2EBFA;\n",
              "      box-shadow: 0px 1px 2px rgba(60, 64, 67, 0.3), 0px 1px 3px 1px rgba(60, 64, 67, 0.15);\n",
              "      fill: #174EA6;\n",
              "    }\n",
              "\n",
              "    [theme=dark] .colab-df-convert {\n",
              "      background-color: #3B4455;\n",
              "      fill: #D2E3FC;\n",
              "    }\n",
              "\n",
              "    [theme=dark] .colab-df-convert:hover {\n",
              "      background-color: #434B5C;\n",
              "      box-shadow: 0px 1px 3px 1px rgba(0, 0, 0, 0.15);\n",
              "      filter: drop-shadow(0px 1px 2px rgba(0, 0, 0, 0.3));\n",
              "      fill: #FFFFFF;\n",
              "    }\n",
              "  </style>\n",
              "\n",
              "      <script>\n",
              "        const buttonEl =\n",
              "          document.querySelector('#df-5fb99e27-6388-4864-8205-e72abe399bf4 button.colab-df-convert');\n",
              "        buttonEl.style.display =\n",
              "          google.colab.kernel.accessAllowed ? 'block' : 'none';\n",
              "\n",
              "        async function convertToInteractive(key) {\n",
              "          const element = document.querySelector('#df-5fb99e27-6388-4864-8205-e72abe399bf4');\n",
              "          const dataTable =\n",
              "            await google.colab.kernel.invokeFunction('convertToInteractive',\n",
              "                                                     [key], {});\n",
              "          if (!dataTable) return;\n",
              "\n",
              "          const docLinkHtml = 'Like what you see? Visit the ' +\n",
              "            '<a target=\"_blank\" href=https://colab.research.google.com/notebooks/data_table.ipynb>data table notebook</a>'\n",
              "            + ' to learn more about interactive tables.';\n",
              "          element.innerHTML = '';\n",
              "          dataTable['output_type'] = 'display_data';\n",
              "          await google.colab.output.renderOutput(dataTable, element);\n",
              "          const docLink = document.createElement('div');\n",
              "          docLink.innerHTML = docLinkHtml;\n",
              "          element.appendChild(docLink);\n",
              "        }\n",
              "      </script>\n",
              "    </div>\n",
              "  </div>\n",
              "  "
            ]
          },
          "metadata": {},
          "execution_count": 59
        }
      ]
    },
    {
      "cell_type": "code",
      "source": [
        "# Make a bar plot\n",
        "quan_by_location.plot.bar()"
      ],
      "metadata": {
        "colab": {
          "base_uri": "https://localhost:8080/",
          "height": 295
        },
        "id": "LbvJA_MkLLG8",
        "outputId": "3b66365a-269d-4727-c0f2-4957b22c3c99"
      },
      "execution_count": null,
      "outputs": [
        {
          "output_type": "execute_result",
          "data": {
            "text/plain": [
              "<matplotlib.axes._subplots.AxesSubplot at 0x7f864bad0160>"
            ]
          },
          "metadata": {},
          "execution_count": 60
        },
        {
          "output_type": "display_data",
          "data": {
            "text/plain": [
              "<Figure size 432x288 with 1 Axes>"
            ],
            "image/png": "[encoded data removed]"
          },
          "metadata": {
            "needs_background": "light"
          }
        }
      ]
    },
    {
      "cell_type": "markdown",
      "source": [
        "HERE\n",
        "\n",
        "0 = SMALL CITY\n",
        "\n",
        "1 = MID-SIZED CITY\n",
        "\n",
        "2 = BIG CITY\n",
        "\n",
        "So we clearly see that small city person buy more chocolate as compare to the mid sized and big sized city"
      ],
      "metadata": {
        "id": "-CsYeDo_LtxX"
      }
    },
    {
      "cell_type": "markdown",
      "source": [
        "# Conclusion\n",
        "\n",
        "This data contain information of 5 differnet brand of chocolate in which brand 2 and brand 5 are most loveable chocolate and these two brands collect more revenue. Most of the single male and non single female purchased these two brands chocolate and also the age range lie between 24 to 36 years buy maximum quantity of chocolate from all the brands. Income is not perform good factor to increase or decrease the sale of the chocolate but settlement size play more important role for buying the chocolate because small city person buy maximum quantity of chocolate.\n",
        "\n",
        "\n",
        "\n",
        "**What we need to do for increase the sale.**\n",
        "\n",
        "1.To stop the promotion on the brand 5 chocolate because impact of promotion is negative on the sale and sale percentage decrease 42 % while we apply promotion.\n",
        "\n",
        "2.We have to think to build more intrest to the single female and non single male because very small revenue generated from both of them.\n",
        "\n",
        "3.We have to make a new idea and offers for the age group of 40+ because they buy very minimum quantity.\n",
        "\n",
        "4.We have to give more focus on those people who lives in mid city and big city because their contribution is also very less so we have to promote our chocolate brand to those people too.\n",
        "\n",
        "5.Finally we have to promote brand 1 and brand 3 chocolate more and make these brand more famous and also increase some flabour and taste of the chocolate because these two brand chocolate sales are very less.\n",
        "\n",
        "Hope this will give the positive result and our brand be more popular and we generate more revenue in future."
      ],
      "metadata": {
        "id": "L_OHe-QoM13r"
      }
    }
  ]
}